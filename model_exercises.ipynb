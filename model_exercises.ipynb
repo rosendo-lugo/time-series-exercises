{
 "cells": [
  {
   "cell_type": "markdown",
   "id": "be007b1c-ad84-4e6a-9800-d89d576023a1",
   "metadata": {},
   "source": [
    "# Forecasting"
   ]
  },
  {
   "cell_type": "markdown",
   "id": "a82867f2-0f8b-4475-a3a1-29d57eb506a6",
   "metadata": {},
   "source": [
    "## Exercises\n",
    "The end result of this exercise should be a Jupyter notebook named **model**.\n",
    "\n",
    "Using saas.csv or log data from API usage"
   ]
  },
  {
   "cell_type": "markdown",
   "id": "f209f052-e2de-409f-a19b-b318b8138a50",
   "metadata": {},
   "source": [
    "# Imports"
   ]
  },
  {
   "cell_type": "code",
   "execution_count": 1,
   "id": "1bb81479-f450-439e-88ee-127bf61d3f21",
   "metadata": {},
   "outputs": [],
   "source": [
    "# for presentation purposes\n",
    "import warnings\n",
    "warnings.filterwarnings(\"ignore\")\n",
    "\n",
    "# wrangle\n",
    "from env import user, password, host\n",
    "import os\n",
    "\n",
    "# transform\n",
    "import numpy as np\n",
    "import pandas as pd\n",
    "\n",
    "# visualize \n",
    "import matplotlib.pyplot as plt\n",
    "import seaborn as sns\n",
    "\n",
    "# working with dates\n",
    "from datetime import datetime\n",
    "\n",
    "# modeling\n",
    "import statsmodels.api as sm\n",
    "from statsmodels.tsa.api import Holt, ExponentialSmoothing\n",
    "\n",
    "# evaluate\n",
    "from sklearn.metrics import mean_squared_error\n",
    "from math import sqrt "
   ]
  },
  {
   "cell_type": "markdown",
   "id": "ba394ca8-bf63-4210-a7d6-2b571d2b205d",
   "metadata": {},
   "source": [
    "## 1. Split data (train/test) and resample by any period, except daily, and aggregate using the sum."
   ]
  },
  {
   "cell_type": "code",
   "execution_count": 2,
   "id": "3e6171bc-d75f-489f-a8ef-d7620e4d1962",
   "metadata": {},
   "outputs": [],
   "source": [
    "df = pd.read_csv('saas.csv')"
   ]
  },
  {
   "cell_type": "code",
   "execution_count": 3,
   "id": "6a3334d0-0cb2-45b5-b58e-a0a06c394a53",
   "metadata": {},
   "outputs": [
    {
     "name": "stdout",
     "output_type": "stream",
     "text": [
      "<class 'pandas.core.frame.DataFrame'>\n",
      "RangeIndex: 790458 entries, 0 to 790457\n",
      "Data columns (total 5 columns):\n",
      " #   Column             Non-Null Count   Dtype  \n",
      "---  ------             --------------   -----  \n",
      " 0   Month_Invoiced     790458 non-null  object \n",
      " 1   Customer_Id        790458 non-null  int64  \n",
      " 2   Invoice_Id         790458 non-null  int64  \n",
      " 3   Subscription_Type  790458 non-null  float64\n",
      " 4   Amount             790458 non-null  float64\n",
      "dtypes: float64(2), int64(2), object(1)\n",
      "memory usage: 30.2+ MB\n"
     ]
    }
   ],
   "source": [
    "df.info()"
   ]
  },
  {
   "cell_type": "code",
   "execution_count": 4,
   "id": "cc8d9a62-172f-415e-823c-ea9def52ef3f",
   "metadata": {},
   "outputs": [
    {
     "data": {
      "text/html": [
       "<div>\n",
       "<style scoped>\n",
       "    .dataframe tbody tr th:only-of-type {\n",
       "        vertical-align: middle;\n",
       "    }\n",
       "\n",
       "    .dataframe tbody tr th {\n",
       "        vertical-align: top;\n",
       "    }\n",
       "\n",
       "    .dataframe thead th {\n",
       "        text-align: right;\n",
       "    }\n",
       "</style>\n",
       "<table border=\"1\" class=\"dataframe\">\n",
       "  <thead>\n",
       "    <tr style=\"text-align: right;\">\n",
       "      <th></th>\n",
       "      <th>Month_Invoiced</th>\n",
       "      <th>Customer_Id</th>\n",
       "      <th>Invoice_Id</th>\n",
       "      <th>Subscription_Type</th>\n",
       "      <th>Amount</th>\n",
       "    </tr>\n",
       "  </thead>\n",
       "  <tbody>\n",
       "    <tr>\n",
       "      <th>0</th>\n",
       "      <td>2014-01-31</td>\n",
       "      <td>1000000</td>\n",
       "      <td>5000000</td>\n",
       "      <td>0.0</td>\n",
       "      <td>0.0</td>\n",
       "    </tr>\n",
       "    <tr>\n",
       "      <th>1</th>\n",
       "      <td>2014-01-31</td>\n",
       "      <td>1000001</td>\n",
       "      <td>5000001</td>\n",
       "      <td>2.0</td>\n",
       "      <td>10.0</td>\n",
       "    </tr>\n",
       "    <tr>\n",
       "      <th>2</th>\n",
       "      <td>2014-01-31</td>\n",
       "      <td>1000002</td>\n",
       "      <td>5000002</td>\n",
       "      <td>0.0</td>\n",
       "      <td>0.0</td>\n",
       "    </tr>\n",
       "    <tr>\n",
       "      <th>3</th>\n",
       "      <td>2014-01-31</td>\n",
       "      <td>1000003</td>\n",
       "      <td>5000003</td>\n",
       "      <td>0.0</td>\n",
       "      <td>0.0</td>\n",
       "    </tr>\n",
       "    <tr>\n",
       "      <th>4</th>\n",
       "      <td>2014-01-31</td>\n",
       "      <td>1000004</td>\n",
       "      <td>5000004</td>\n",
       "      <td>1.0</td>\n",
       "      <td>5.0</td>\n",
       "    </tr>\n",
       "  </tbody>\n",
       "</table>\n",
       "</div>"
      ],
      "text/plain": [
       "  Month_Invoiced  Customer_Id  Invoice_Id  Subscription_Type  Amount\n",
       "0     2014-01-31      1000000     5000000                0.0     0.0\n",
       "1     2014-01-31      1000001     5000001                2.0    10.0\n",
       "2     2014-01-31      1000002     5000002                0.0     0.0\n",
       "3     2014-01-31      1000003     5000003                0.0     0.0\n",
       "4     2014-01-31      1000004     5000004                1.0     5.0"
      ]
     },
     "execution_count": 4,
     "metadata": {},
     "output_type": "execute_result"
    }
   ],
   "source": [
    "df.head()"
   ]
  },
  {
   "cell_type": "code",
   "execution_count": 5,
   "id": "b75124f7-dcb1-4a39-a884-b95612d715fd",
   "metadata": {},
   "outputs": [
    {
     "data": {
      "text/plain": [
       "2014-01-31    20000\n",
       "2014-02-28    19800\n",
       "2014-03-31    19599\n",
       "2014-04-30    19413\n",
       "2014-05-31    19221\n",
       "2014-06-30    19038\n",
       "2014-07-31    18851\n",
       "2014-08-31    18672\n",
       "2014-09-30    18494\n",
       "2014-10-31    18313\n",
       "2014-11-30    18145\n",
       "2014-12-31    17996\n",
       "2015-01-31    17829\n",
       "2015-02-28    17680\n",
       "2015-03-31    17530\n",
       "2015-04-30    17376\n",
       "2015-05-31    17225\n",
       "2015-06-30    17089\n",
       "2015-07-31    16951\n",
       "2015-08-31    16817\n",
       "2015-09-30    16671\n",
       "2015-10-31    16529\n",
       "2015-11-30    16387\n",
       "2015-12-31    16268\n",
       "2016-01-31    16142\n",
       "2016-02-29    16019\n",
       "2016-03-31    15895\n",
       "2016-04-30    15777\n",
       "2016-05-31    15685\n",
       "2016-06-30    15571\n",
       "2016-07-31    15460\n",
       "2016-08-31    15355\n",
       "2016-09-30    15240\n",
       "2016-10-31    15144\n",
       "2016-11-30    15049\n",
       "2016-12-31    14938\n",
       "2017-01-31    14840\n",
       "2017-02-28    14741\n",
       "2017-03-31    14665\n",
       "2017-04-30    14576\n",
       "2017-05-31    14475\n",
       "2017-06-30    14400\n",
       "2017-07-31    14312\n",
       "2017-08-31    14209\n",
       "2017-09-30    14131\n",
       "2017-10-31    14041\n",
       "2017-11-30    13985\n",
       "2017-12-31    13914\n",
       "Name: Month_Invoiced, dtype: int64"
      ]
     },
     "execution_count": 5,
     "metadata": {},
     "output_type": "execute_result"
    }
   ],
   "source": [
    "df.Month_Invoiced.value_counts()"
   ]
  },
  {
   "cell_type": "code",
   "execution_count": 6,
   "id": "ad98081c-183c-47cf-bc3a-4945cc19ac9f",
   "metadata": {},
   "outputs": [],
   "source": [
    "# prep the data\n",
    "\n",
    "# convert all the column names to lowercase\n",
    "df.columns = df.columns.str.lower()\n",
    "\n",
    "# change the date from object to datetime and save it back to the date column\n",
    "df.month_invoiced = df.month_invoiced.astype('datetime64')\n",
    "\n",
    "# set sale_date as the index\n",
    "df = df.set_index('month_invoiced')\n",
    "\n",
    "#rename any messy columns that could get confusing:\n",
    "df = df.rename(columns={'amount': 'quantity'})\n",
    "\n",
    "# sort the index (sale_date)\n",
    "df = df.sort_index()\n",
    "\n",
    "# replace all the nulls with a zero\n",
    "df = df.replace(np.nan,0)"
   ]
  },
  {
   "cell_type": "code",
   "execution_count": 7,
   "id": "dfcaa270-acab-4c94-b673-4c65d0d5629e",
   "metadata": {},
   "outputs": [
    {
     "data": {
      "text/plain": [
       "0.0    496410\n",
       "1.0    178212\n",
       "2.0     70706\n",
       "3.0     26474\n",
       "4.0     18656\n",
       "Name: subscription_type, dtype: int64"
      ]
     },
     "execution_count": 7,
     "metadata": {},
     "output_type": "execute_result"
    }
   ],
   "source": [
    "df.subscription_type.value_counts()"
   ]
  },
  {
   "cell_type": "markdown",
   "id": "cb8d9e89-f29d-42e4-a51a-098d8a1d5d69",
   "metadata": {},
   "source": [
    "We will resample to monthly aggregating our values using sum. The original granularity is monthly, but there are multiple records of the same months across multiple stores."
   ]
  },
  {
   "cell_type": "code",
   "execution_count": 8,
   "id": "03c2c6dd-639f-44ef-8293-d06e754545b5",
   "metadata": {},
   "outputs": [],
   "source": [
    "# resample by week, sum\n",
    "df_resampled = df.resample('M')[['quantity']].sum()"
   ]
  },
  {
   "cell_type": "code",
   "execution_count": 9,
   "id": "fb63b76b-eb8e-49f8-9c07-cf0c25185f0f",
   "metadata": {},
   "outputs": [
    {
     "data": {
      "text/html": [
       "<div>\n",
       "<style scoped>\n",
       "    .dataframe tbody tr th:only-of-type {\n",
       "        vertical-align: middle;\n",
       "    }\n",
       "\n",
       "    .dataframe tbody tr th {\n",
       "        vertical-align: top;\n",
       "    }\n",
       "\n",
       "    .dataframe thead th {\n",
       "        text-align: right;\n",
       "    }\n",
       "</style>\n",
       "<table border=\"1\" class=\"dataframe\">\n",
       "  <thead>\n",
       "    <tr style=\"text-align: right;\">\n",
       "      <th></th>\n",
       "      <th>quantity</th>\n",
       "    </tr>\n",
       "    <tr>\n",
       "      <th>month_invoiced</th>\n",
       "      <th></th>\n",
       "    </tr>\n",
       "  </thead>\n",
       "  <tbody>\n",
       "    <tr>\n",
       "      <th>2014-01-31</th>\n",
       "      <td>35850.0</td>\n",
       "    </tr>\n",
       "    <tr>\n",
       "      <th>2014-02-28</th>\n",
       "      <td>37190.0</td>\n",
       "    </tr>\n",
       "  </tbody>\n",
       "</table>\n",
       "</div>"
      ],
      "text/plain": [
       "                quantity\n",
       "month_invoiced          \n",
       "2014-01-31       35850.0\n",
       "2014-02-28       37190.0"
      ]
     },
     "execution_count": 9,
     "metadata": {},
     "output_type": "execute_result"
    }
   ],
   "source": [
    "df_resampled.head(2)"
   ]
  },
  {
   "cell_type": "code",
   "execution_count": 10,
   "id": "e125a98f-f7d3-43aa-b2fc-0fe268da43ff",
   "metadata": {},
   "outputs": [
    {
     "data": {
      "text/plain": [
       "(48, 1)"
      ]
     },
     "execution_count": 10,
     "metadata": {},
     "output_type": "execute_result"
    }
   ],
   "source": [
    "df_resampled.shape"
   ]
  },
  {
   "cell_type": "code",
   "execution_count": 11,
   "id": "0bc14b80-5b92-4e89-b7d2-25e7aa67d151",
   "metadata": {},
   "outputs": [
    {
     "data": {
      "text/plain": [
       "quantity    51955.0\n",
       "Name: 2016-02-29 00:00:00, dtype: float64"
      ]
     },
     "execution_count": 11,
     "metadata": {},
     "output_type": "execute_result"
    }
   ],
   "source": [
    "# look for a leap year\n",
    "df_resampled.loc['2016-02-29']"
   ]
  },
  {
   "cell_type": "code",
   "execution_count": 12,
   "id": "2cc67c58-0096-4ce4-8c94-d73774d9b572",
   "metadata": {},
   "outputs": [],
   "source": [
    "# Drop February 29th from our dataset (a leap year date)\n",
    "# we do have a leap day in this data set, so I'm going\n",
    "# to drop it out so it doesn't disrupt our annual cycle/365 count\n",
    "df_resampled = df_resampled[df_resampled.index != '2016-02-29']"
   ]
  },
  {
   "cell_type": "code",
   "execution_count": 13,
   "id": "0530cf2d-81af-49ea-833e-62a45e889a8a",
   "metadata": {},
   "outputs": [
    {
     "data": {
      "text/html": [
       "<div>\n",
       "<style scoped>\n",
       "    .dataframe tbody tr th:only-of-type {\n",
       "        vertical-align: middle;\n",
       "    }\n",
       "\n",
       "    .dataframe tbody tr th {\n",
       "        vertical-align: top;\n",
       "    }\n",
       "\n",
       "    .dataframe thead th {\n",
       "        text-align: right;\n",
       "    }\n",
       "</style>\n",
       "<table border=\"1\" class=\"dataframe\">\n",
       "  <thead>\n",
       "    <tr style=\"text-align: right;\">\n",
       "      <th></th>\n",
       "      <th>quantity</th>\n",
       "    </tr>\n",
       "    <tr>\n",
       "      <th>month_invoiced</th>\n",
       "      <th></th>\n",
       "    </tr>\n",
       "  </thead>\n",
       "  <tbody>\n",
       "    <tr>\n",
       "      <th>2014-01-31</th>\n",
       "      <td>35850.0</td>\n",
       "    </tr>\n",
       "    <tr>\n",
       "      <th>2014-02-28</th>\n",
       "      <td>37190.0</td>\n",
       "    </tr>\n",
       "  </tbody>\n",
       "</table>\n",
       "</div>"
      ],
      "text/plain": [
       "                quantity\n",
       "month_invoiced          \n",
       "2014-01-31       35850.0\n",
       "2014-02-28       37190.0"
      ]
     },
     "execution_count": 13,
     "metadata": {},
     "output_type": "execute_result"
    }
   ],
   "source": [
    "df_resampled.head(2)"
   ]
  },
  {
   "cell_type": "markdown",
   "id": "3d1b5492-90a8-4e0c-a92a-5c72dcf1d2d3",
   "metadata": {},
   "source": [
    "## Split\n",
    "\n",
    "1. We will use the training proportion method to split.    \n",
    "2. Identify the total length of the dataframe and multiple by `train_prop` to get the number of rows that equates to the first x% of the dataframe, which equates to the first x% of the time covered in the data.   (`x = train_prop * 100`)  \n",
    "3. Select row indices from 0 up to the index representing x-percentile for train, and from the index representing x-percentile through the end of the dataframe for test. In both of these, we will reset the index in order to return dataframes sorted by datetime.  \n",
    "4. Return train and test dataframes. "
   ]
  },
  {
   "cell_type": "code",
   "execution_count": 14,
   "id": "684500b3-ed00-4af3-a82b-265e43f63fa7",
   "metadata": {},
   "outputs": [
    {
     "data": {
      "text/plain": [
       "23.5"
      ]
     },
     "execution_count": 14,
     "metadata": {},
     "output_type": "execute_result"
    }
   ],
   "source": [
    ".5 * df_resampled.shape[0]"
   ]
  },
  {
   "cell_type": "code",
   "execution_count": 15,
   "id": "ae933cd0-2db9-467e-bb18-1c62b8f16e39",
   "metadata": {},
   "outputs": [
    {
     "data": {
      "text/plain": [
       "23"
      ]
     },
     "execution_count": 15,
     "metadata": {},
     "output_type": "execute_result"
    }
   ],
   "source": [
    "int(.5 * len(df_resampled))"
   ]
  },
  {
   "cell_type": "code",
   "execution_count": 16,
   "id": "71436409-1d82-42ab-9b03-c534b9008f74",
   "metadata": {},
   "outputs": [],
   "source": [
    "# take 50% of our data for train (round to integer for a whole number)\n",
    "train_size = int(.5 * len(df_resampled))\n",
    "# take 30% for validation\n",
    "validate_size = int(len(df_resampled) * .3)\n",
    "# get the remainder or rows for test\n",
    "test_size = int(len(df_resampled) - train_size - validate_size)\n",
    "# get the delineation point between validate and test by summing train and validate\n",
    "validate_end_index = train_size + validate_size\n",
    "\n",
    "# split into train, validation, test\n",
    "train = df_resampled[:train_size]\n",
    "validate = df_resampled[train_size:validate_end_index]\n",
    "test = df_resampled[validate_end_index:]"
   ]
  },
  {
   "cell_type": "code",
   "execution_count": 17,
   "id": "4b46b711-dca8-47cb-832a-639b39182daf",
   "metadata": {},
   "outputs": [
    {
     "data": {
      "text/plain": [
       "47"
      ]
     },
     "execution_count": 17,
     "metadata": {},
     "output_type": "execute_result"
    }
   ],
   "source": [
    "train.shape[0] + validate.shape[0] + test.shape[0]"
   ]
  },
  {
   "cell_type": "markdown",
   "id": "ab305506-b420-4494-a26b-6bceda35e57e",
   "metadata": {},
   "source": [
    "## Visualizing Our Data\n",
    "\n",
    "Let's plot our data first, viewing where the data is split into train and test. "
   ]
  },
  {
   "cell_type": "code",
   "execution_count": 18,
   "id": "0a7bfb21-4551-4782-90cb-d04f077ff64a",
   "metadata": {},
   "outputs": [
    {
     "data": {
      "image/png": "[encoded data removed]",
      "text/plain": [
       "<Figure size 1200x1000 with 1 Axes>"
      ]
     },
     "metadata": {},
     "output_type": "display_data"
    }
   ],
   "source": [
    "# plotting the values of quantity and sales over time by data subset:\n",
    "for col in train.columns:\n",
    "    plt.figure(figsize=(12,10))\n",
    "    plt.plot(train[col])\n",
    "    plt.plot(validate[col])\n",
    "    plt.plot(test[col])\n",
    "    plt.ylabel(col)\n",
    "    plt.title(col)\n",
    "    plt.show()"
   ]
  },
  {
   "cell_type": "markdown",
   "id": "83d21efb-9dcc-42e8-bad2-716b441a2e38",
   "metadata": {},
   "source": [
    "## 2. Forecast, plot and evaluate using each at least 4 of the methods we discussed:"
   ]
  },
  {
   "cell_type": "markdown",
   "id": "f8e3355c-8a80-4aa0-b466-ebf1257c45d8",
   "metadata": {},
   "source": [
    "## Creating Helpful Evaluation Functions\n",
    "\n",
    "Before we try out different methods for forecasting sales and number of items sold, let's create a couple of functions that will be helpful in evaluating each of the methods that follow. \n",
    "\n",
    "`evaluate()` will compute the Mean Squared Error and the Rood Mean Squared Error to evaluate.  "
   ]
  },
  {
   "cell_type": "code",
   "execution_count": 19,
   "id": "f09b3cf7-3a41-43b9-aae8-a50417efd4e7",
   "metadata": {},
   "outputs": [],
   "source": [
    "# evaluation function to compute rmse\n",
    "# calculate an error metric on the validation's target versus predictions\n",
    "def evaluate(target_var):\n",
    "    '''\n",
    "    This function will take the actual values of the target_var from validate, \n",
    "    and the predicted values stored in yhat_df, \n",
    "    and compute the rmse, rounding to 0 decimal places. \n",
    "    it will return the rmse. \n",
    "    '''\n",
    "    rmse = round(\n",
    "        sqrt(\n",
    "            mean_squared_error(\n",
    "            validate[target_var],\n",
    "            yhat_df[target_var])\n",
    "        ), 0)\n",
    "    return rmse\n",
    "\n",
    "    "
   ]
  },
  {
   "cell_type": "markdown",
   "id": "16ae264d-4f9f-46f6-b3c9-317ee6395e9b",
   "metadata": {},
   "source": [
    "`plot_and_eval()` will use the evaluate function and also plot train and test values with the predicted values in order to visualize our performance to make comparisons."
   ]
  },
  {
   "cell_type": "code",
   "execution_count": 20,
   "id": "60cbd1b2-ab1d-49aa-8d4a-ab79d804d227",
   "metadata": {},
   "outputs": [],
   "source": [
    "# plot and evaluate \n",
    "def plot_and_eval(target_var):\n",
    "    '''\n",
    "    This function takes in the target var name (string), and returns a plot\n",
    "    of the values of train for that variable, validate, and the predicted values from yhat_df. \n",
    "    it will als lable the rmse. \n",
    "    '''\n",
    "    plt.figure(figsize = (12,4))\n",
    "    plt.plot(train[target_var], label='Train', linewidth=1)\n",
    "    plt.plot(validate[target_var], label='Validate', linewidth=1)\n",
    "    plt.plot(yhat_df[target_var], linewidth=1)\n",
    "    plt.title(target_var)\n",
    "    rmse = evaluate(target_var)\n",
    "    print(target_var, f'-- rmse: {round(rmse,2)}')\n",
    "    plt.show()"
   ]
  },
  {
   "cell_type": "code",
   "execution_count": 21,
   "id": "3a6fd46a-9b8d-4e26-a90a-160c7c95fcb0",
   "metadata": {},
   "outputs": [
    {
     "data": {
      "text/html": [
       "<div>\n",
       "<style scoped>\n",
       "    .dataframe tbody tr th:only-of-type {\n",
       "        vertical-align: middle;\n",
       "    }\n",
       "\n",
       "    .dataframe tbody tr th {\n",
       "        vertical-align: top;\n",
       "    }\n",
       "\n",
       "    .dataframe thead th {\n",
       "        text-align: right;\n",
       "    }\n",
       "</style>\n",
       "<table border=\"1\" class=\"dataframe\">\n",
       "  <thead>\n",
       "    <tr style=\"text-align: right;\">\n",
       "      <th></th>\n",
       "      <th>model_type</th>\n",
       "      <th>target_var</th>\n",
       "      <th>rmse</th>\n",
       "    </tr>\n",
       "  </thead>\n",
       "  <tbody>\n",
       "  </tbody>\n",
       "</table>\n",
       "</div>"
      ],
      "text/plain": [
       "Empty DataFrame\n",
       "Columns: [model_type, target_var, rmse]\n",
       "Index: []"
      ]
     },
     "execution_count": 21,
     "metadata": {},
     "output_type": "execute_result"
    }
   ],
   "source": [
    "# Create the empty dataframe\n",
    "eval_df = pd.DataFrame(columns=['model_type', 'target_var', 'rmse'])\n",
    "eval_df"
   ]
  },
  {
   "cell_type": "markdown",
   "id": "3b47bae2-0f73-431b-9eb1-3f812b33c674",
   "metadata": {},
   "source": [
    "While we could manually append the performance results of each model to this dataframe, its better to create a function that will do it for us.\n",
    "\n",
    "`append_eval_df()` will append evaluation metrics for each model into our eval_df data frame object. This function is dependent on `eval_df` already existing, which we accomplished in our previous step."
   ]
  },
  {
   "cell_type": "code",
   "execution_count": 22,
   "id": "81c932ed-d242-41e7-bf47-6a00f6e47529",
   "metadata": {},
   "outputs": [],
   "source": [
    "# function to store rmse for comparison purposes\n",
    "def append_eval_df(model_type, target_var):\n",
    "    '''\n",
    "    this function takes in as arguments the type of model run, and the name of the target variable. \n",
    "    It returns the eval_df with the rmse appended to it for that model and target_var. \n",
    "    '''\n",
    "    rmse = evaluate(target_var)\n",
    "    d = {'model_type': [model_type], 'target_var': [target_var], 'rmse': [rmse]}\n",
    "    return pd.concat([eval_df, pd.DataFrame(d)])"
   ]
  },
  {
   "cell_type": "markdown",
   "id": "29053c8f-c80f-4f46-9de7-5c0c624d5268",
   "metadata": {},
   "source": [
    "### • Last Observed Value"
   ]
  },
  {
   "cell_type": "code",
   "execution_count": 23,
   "id": "094e2084-c91f-48bd-a9da-615a2132b99d",
   "metadata": {},
   "outputs": [
    {
     "data": {
      "text/plain": [
       "51260.0"
      ]
     },
     "execution_count": 23,
     "metadata": {},
     "output_type": "execute_result"
    }
   ],
   "source": [
    "# going forward from the -1st element in train's quantity, then \n",
    "# rip out the value associated with it by taking the zeroth element of that return\n",
    "train['quantity'][-1:][0]"
   ]
  },
  {
   "cell_type": "code",
   "execution_count": 24,
   "id": "a30b7be4-d145-4df9-a11a-3518ca6ada59",
   "metadata": {},
   "outputs": [],
   "source": [
    "# take the last item of quantity and assign to variable\n",
    "\n",
    "# take the last item of quantity and assign to variable\n",
    "last_quantity = train['quantity'][-1:][0]\n",
    "\n",
    "# let's make the prediction dataframe that we referenced a little earlier\n",
    "yhat_df = pd.DataFrame(\n",
    "    {\n",
    "    'quantity': [last_quantity]\n",
    "    },\n",
    "    index = validate.index\n",
    ")"
   ]
  },
  {
   "cell_type": "code",
   "execution_count": 25,
   "id": "630a9700-b82b-45d6-a9f7-d555416d56b0",
   "metadata": {},
   "outputs": [
    {
     "data": {
      "text/html": [
       "<div>\n",
       "<style scoped>\n",
       "    .dataframe tbody tr th:only-of-type {\n",
       "        vertical-align: middle;\n",
       "    }\n",
       "\n",
       "    .dataframe tbody tr th {\n",
       "        vertical-align: top;\n",
       "    }\n",
       "\n",
       "    .dataframe thead th {\n",
       "        text-align: right;\n",
       "    }\n",
       "</style>\n",
       "<table border=\"1\" class=\"dataframe\">\n",
       "  <thead>\n",
       "    <tr style=\"text-align: right;\">\n",
       "      <th></th>\n",
       "      <th>quantity</th>\n",
       "    </tr>\n",
       "    <tr>\n",
       "      <th>month_invoiced</th>\n",
       "      <th></th>\n",
       "    </tr>\n",
       "  </thead>\n",
       "  <tbody>\n",
       "    <tr>\n",
       "      <th>2015-12-31</th>\n",
       "      <td>51260.0</td>\n",
       "    </tr>\n",
       "    <tr>\n",
       "      <th>2016-01-31</th>\n",
       "      <td>51260.0</td>\n",
       "    </tr>\n",
       "    <tr>\n",
       "      <th>2016-03-31</th>\n",
       "      <td>51260.0</td>\n",
       "    </tr>\n",
       "    <tr>\n",
       "      <th>2016-04-30</th>\n",
       "      <td>51260.0</td>\n",
       "    </tr>\n",
       "    <tr>\n",
       "      <th>2016-05-31</th>\n",
       "      <td>51260.0</td>\n",
       "    </tr>\n",
       "  </tbody>\n",
       "</table>\n",
       "</div>"
      ],
      "text/plain": [
       "                quantity\n",
       "month_invoiced          \n",
       "2015-12-31       51260.0\n",
       "2016-01-31       51260.0\n",
       "2016-03-31       51260.0\n",
       "2016-04-30       51260.0\n",
       "2016-05-31       51260.0"
      ]
     },
     "execution_count": 25,
     "metadata": {},
     "output_type": "execute_result"
    }
   ],
   "source": [
    "yhat_df.head()"
   ]
  },
  {
   "cell_type": "markdown",
   "id": "19cfadbd-76fc-4170-b5e7-1ebb7ba2b7f1",
   "metadata": {},
   "source": [
    "You can see, when peeking into yhat_df, that every predicted value is the same.\n",
    "\n",
    "***Plot Actual vs. Predicted Values***\n",
    "\n",
    "Now, let's plot actual and predicted values using our plot_and_eval() function:"
   ]
  },
  {
   "cell_type": "code",
   "execution_count": 26,
   "id": "a49150b7-8837-40d6-a1bc-bcaafaba350e",
   "metadata": {},
   "outputs": [
    {
     "name": "stdout",
     "output_type": "stream",
     "text": [
      "quantity -- rmse: 1559.0\n"
     ]
    },
    {
     "data": {
      "image/png": "[encoded data removed]",
      "text/plain": [
       "<Figure size 1200x400 with 1 Axes>"
      ]
     },
     "metadata": {},
     "output_type": "display_data"
    }
   ],
   "source": [
    "# use the plot and eval function we defined earlier for both targets:\n",
    "for col in train.columns:\n",
    "    plot_and_eval(col)"
   ]
  },
  {
   "cell_type": "code",
   "execution_count": 27,
   "id": "cceb3d84-7625-486f-b5c7-ace013670fbc",
   "metadata": {},
   "outputs": [
    {
     "data": {
      "text/html": [
       "<div>\n",
       "<style scoped>\n",
       "    .dataframe tbody tr th:only-of-type {\n",
       "        vertical-align: middle;\n",
       "    }\n",
       "\n",
       "    .dataframe tbody tr th {\n",
       "        vertical-align: top;\n",
       "    }\n",
       "\n",
       "    .dataframe thead th {\n",
       "        text-align: right;\n",
       "    }\n",
       "</style>\n",
       "<table border=\"1\" class=\"dataframe\">\n",
       "  <thead>\n",
       "    <tr style=\"text-align: right;\">\n",
       "      <th></th>\n",
       "      <th>model_type</th>\n",
       "      <th>target_var</th>\n",
       "      <th>rmse</th>\n",
       "    </tr>\n",
       "  </thead>\n",
       "  <tbody>\n",
       "  </tbody>\n",
       "</table>\n",
       "</div>"
      ],
      "text/plain": [
       "Empty DataFrame\n",
       "Columns: [model_type, target_var, rmse]\n",
       "Index: []"
      ]
     },
     "execution_count": 27,
     "metadata": {},
     "output_type": "execute_result"
    }
   ],
   "source": [
    "eval_df"
   ]
  },
  {
   "cell_type": "code",
   "execution_count": 28,
   "id": "431377c6-4914-46ea-bf26-dc97cd535507",
   "metadata": {},
   "outputs": [],
   "source": [
    "for col in train.columns:\n",
    "    eval_df = append_eval_df(model_type = 'last_observed_value',\n",
    "                             target_var=col)"
   ]
  },
  {
   "cell_type": "code",
   "execution_count": 29,
   "id": "5400a970-ba26-4e3b-af75-6d8c55ca130e",
   "metadata": {},
   "outputs": [
    {
     "data": {
      "text/html": [
       "<div>\n",
       "<style scoped>\n",
       "    .dataframe tbody tr th:only-of-type {\n",
       "        vertical-align: middle;\n",
       "    }\n",
       "\n",
       "    .dataframe tbody tr th {\n",
       "        vertical-align: top;\n",
       "    }\n",
       "\n",
       "    .dataframe thead th {\n",
       "        text-align: right;\n",
       "    }\n",
       "</style>\n",
       "<table border=\"1\" class=\"dataframe\">\n",
       "  <thead>\n",
       "    <tr style=\"text-align: right;\">\n",
       "      <th></th>\n",
       "      <th>model_type</th>\n",
       "      <th>target_var</th>\n",
       "      <th>rmse</th>\n",
       "    </tr>\n",
       "  </thead>\n",
       "  <tbody>\n",
       "    <tr>\n",
       "      <th>0</th>\n",
       "      <td>last_observed_value</td>\n",
       "      <td>quantity</td>\n",
       "      <td>1559.0</td>\n",
       "    </tr>\n",
       "  </tbody>\n",
       "</table>\n",
       "</div>"
      ],
      "text/plain": [
       "            model_type target_var    rmse\n",
       "0  last_observed_value   quantity  1559.0"
      ]
     },
     "execution_count": 29,
     "metadata": {},
     "output_type": "execute_result"
    }
   ],
   "source": [
    "eval_df"
   ]
  },
  {
   "cell_type": "markdown",
   "id": "f82bc24f-f1c8-42a4-86ff-44ae74fd3f00",
   "metadata": {},
   "source": [
    "### • Simple Average\n",
    "\n",
    "\n",
    "Take the simple average of historical values and use that value to predict future values.   \n",
    "\n",
    "This is a good option for an initial baseline. Every future datapoint (those in 'test') will be assigned the same value, and that value will be the overall mean of the values in train. \n",
    "\n",
    "\n",
    "**Make Predictions**"
   ]
  },
  {
   "cell_type": "code",
   "execution_count": 30,
   "id": "f015daea-1e70-42d9-aa06-2b9fe8796d72",
   "metadata": {},
   "outputs": [
    {
     "data": {
      "text/html": [
       "<div>\n",
       "<style scoped>\n",
       "    .dataframe tbody tr th:only-of-type {\n",
       "        vertical-align: middle;\n",
       "    }\n",
       "\n",
       "    .dataframe tbody tr th {\n",
       "        vertical-align: top;\n",
       "    }\n",
       "\n",
       "    .dataframe thead th {\n",
       "        text-align: right;\n",
       "    }\n",
       "</style>\n",
       "<table border=\"1\" class=\"dataframe\">\n",
       "  <thead>\n",
       "    <tr style=\"text-align: right;\">\n",
       "      <th></th>\n",
       "      <th>quantity</th>\n",
       "    </tr>\n",
       "    <tr>\n",
       "      <th>month_invoiced</th>\n",
       "      <th></th>\n",
       "    </tr>\n",
       "  </thead>\n",
       "  <tbody>\n",
       "    <tr>\n",
       "      <th>2015-12-31</th>\n",
       "      <td>45310.43</td>\n",
       "    </tr>\n",
       "    <tr>\n",
       "      <th>2016-01-31</th>\n",
       "      <td>45310.43</td>\n",
       "    </tr>\n",
       "    <tr>\n",
       "      <th>2016-03-31</th>\n",
       "      <td>45310.43</td>\n",
       "    </tr>\n",
       "  </tbody>\n",
       "</table>\n",
       "</div>"
      ],
      "text/plain": [
       "                quantity\n",
       "month_invoiced          \n",
       "2015-12-31      45310.43\n",
       "2016-01-31      45310.43\n",
       "2016-03-31      45310.43"
      ]
     },
     "execution_count": 30,
     "metadata": {},
     "output_type": "execute_result"
    }
   ],
   "source": [
    "# compute simple average of quantity (from train data)\n",
    "avg_quantity = round(train['quantity'].mean(), 2)\n",
    "\n",
    "\n",
    "yhat_df = pd.DataFrame({'quantity': [avg_quantity]},\n",
    "                        index=validate.index)\n",
    "\n",
    "yhat_df.head(3)"
   ]
  },
  {
   "cell_type": "markdown",
   "id": "3de2c725-1e08-4c05-9c46-e87e2035d172",
   "metadata": {
    "tags": []
   },
   "source": [
    "### Plot Actual vs. Predicted Values\n",
    "\n",
    "Similar to our handling of the previous baseline model, we can plot our `yhat_df` values against the actual values in validate. Our `plot_and_eval` function accomplishes this."
   ]
  },
  {
   "cell_type": "code",
   "execution_count": 31,
   "id": "74ca8e9b-7181-4dba-8bcb-f7d1369c1a1a",
   "metadata": {},
   "outputs": [
    {
     "name": "stdout",
     "output_type": "stream",
     "text": [
      "quantity -- rmse: 7410.0\n"
     ]
    },
    {
     "data": {
      "image/png": "[encoded data removed]",
      "text/plain": [
       "<Figure size 1200x400 with 1 Axes>"
      ]
     },
     "metadata": {},
     "output_type": "display_data"
    }
   ],
   "source": [
    "for col in train.columns:\n",
    "    plot_and_eval(col)"
   ]
  },
  {
   "cell_type": "markdown",
   "id": "9b3ee016-5f72-497e-9803-ca5253e77233",
   "metadata": {},
   "source": [
    "**Evaluate**\n",
    "\n",
    "Evaluate using MSE and RMSE, and add evaluation metrics to `eval_df`"
   ]
  },
  {
   "cell_type": "code",
   "execution_count": 32,
   "id": "96cc0e8e-8685-4b16-bd93-2c5a90fa2955",
   "metadata": {},
   "outputs": [
    {
     "data": {
      "text/html": [
       "<div>\n",
       "<style scoped>\n",
       "    .dataframe tbody tr th:only-of-type {\n",
       "        vertical-align: middle;\n",
       "    }\n",
       "\n",
       "    .dataframe tbody tr th {\n",
       "        vertical-align: top;\n",
       "    }\n",
       "\n",
       "    .dataframe thead th {\n",
       "        text-align: right;\n",
       "    }\n",
       "</style>\n",
       "<table border=\"1\" class=\"dataframe\">\n",
       "  <thead>\n",
       "    <tr style=\"text-align: right;\">\n",
       "      <th></th>\n",
       "      <th>model_type</th>\n",
       "      <th>target_var</th>\n",
       "      <th>rmse</th>\n",
       "    </tr>\n",
       "  </thead>\n",
       "  <tbody>\n",
       "    <tr>\n",
       "      <th>0</th>\n",
       "      <td>last_observed_value</td>\n",
       "      <td>quantity</td>\n",
       "      <td>1559.0</td>\n",
       "    </tr>\n",
       "    <tr>\n",
       "      <th>0</th>\n",
       "      <td>simple_average</td>\n",
       "      <td>quantity</td>\n",
       "      <td>7410.0</td>\n",
       "    </tr>\n",
       "  </tbody>\n",
       "</table>\n",
       "</div>"
      ],
      "text/plain": [
       "            model_type target_var    rmse\n",
       "0  last_observed_value   quantity  1559.0\n",
       "0       simple_average   quantity  7410.0"
      ]
     },
     "execution_count": 32,
     "metadata": {},
     "output_type": "execute_result"
    }
   ],
   "source": [
    "for col in train.columns:\n",
    "    eval_df = append_eval_df(model_type='simple_average', \n",
    "                             target_var = col)\n",
    "eval_df"
   ]
  },
  {
   "cell_type": "markdown",
   "id": "f69314b5-9d6f-47ef-9cf5-71d780901d61",
   "metadata": {},
   "source": [
    "### • Moving Average\n",
    "\n",
    "In this example, we will use a 30-day moving average to forecast. In other words, the average of the last period, here 30-days, will be used as the forecasted value. \n",
    "\n",
    "> Moving averages are moving and change over time, but only historically. Forecasts using the moving average use the average of the last period/window of time.\n",
    "\n",
    "![moving average forecast diagram](moving_average.png)\n",
    "\n",
    "**Make Predictions**\n",
    "\n",
    "There are several ways to obtain the mean of the last 30 periods in train. We will use the `.rolling()` method to accomplish this."
   ]
  },
  {
   "cell_type": "code",
   "execution_count": 33,
   "id": "00b712c7-1b11-438b-b0db-d2e862d42f71",
   "metadata": {},
   "outputs": [
    {
     "data": {
      "text/plain": [
       "month_invoiced\n",
       "2014-01-31    35850.0\n",
       "2014-02-28    37190.0\n",
       "2014-03-31    38295.0\n",
       "2014-04-30    39255.0\n",
       "2014-05-31    40355.0\n",
       "2014-06-30    41255.0\n",
       "2014-07-31    42170.0\n",
       "2014-08-31    43210.0\n",
       "2014-09-30    44075.0\n",
       "2014-10-31    44880.0\n",
       "2014-11-30    45545.0\n",
       "2014-12-31    46210.0\n",
       "2015-01-31    46945.0\n",
       "2015-02-28    47520.0\n",
       "2015-03-31    48025.0\n",
       "2015-04-30    48560.0\n",
       "2015-05-31    49025.0\n",
       "2015-06-30    49485.0\n",
       "2015-07-31    50105.0\n",
       "2015-08-31    50495.0\n",
       "2015-09-30    50985.0\n",
       "2015-10-31    51445.0\n",
       "2015-11-30    51260.0\n",
       "Name: quantity, dtype: float64"
      ]
     },
     "execution_count": 33,
     "metadata": {},
     "output_type": "execute_result"
    }
   ],
   "source": [
    "train['quantity']"
   ]
  },
  {
   "cell_type": "code",
   "execution_count": 34,
   "id": "0e80d13b-b115-425f-b1cc-299fe85afd6d",
   "metadata": {},
   "outputs": [
    {
     "data": {
      "text/plain": [
       "month_invoiced\n",
       "2014-01-31        NaN\n",
       "2014-02-28    36520.0\n",
       "2014-03-31    37742.5\n",
       "2014-04-30    38775.0\n",
       "2014-05-31    39805.0\n",
       "2014-06-30    40805.0\n",
       "2014-07-31    41712.5\n",
       "2014-08-31    42690.0\n",
       "2014-09-30    43642.5\n",
       "2014-10-31    44477.5\n",
       "2014-11-30    45212.5\n",
       "2014-12-31    45877.5\n",
       "2015-01-31    46577.5\n",
       "2015-02-28    47232.5\n",
       "2015-03-31    47772.5\n",
       "2015-04-30    48292.5\n",
       "2015-05-31    48792.5\n",
       "2015-06-30    49255.0\n",
       "2015-07-31    49795.0\n",
       "2015-08-31    50300.0\n",
       "2015-09-30    50740.0\n",
       "2015-10-31    51215.0\n",
       "2015-11-30    51352.5\n",
       "Name: quantity, dtype: float64"
      ]
     },
     "execution_count": 34,
     "metadata": {},
     "output_type": "execute_result"
    }
   ],
   "source": [
    "period = 2\n",
    "train['quantity'].rolling(period).mean()"
   ]
  },
  {
   "cell_type": "code",
   "execution_count": 35,
   "id": "236ece05-9a0d-431d-9c77-ef361685be38",
   "metadata": {},
   "outputs": [
    {
     "data": {
      "text/html": [
       "<div>\n",
       "<style scoped>\n",
       "    .dataframe tbody tr th:only-of-type {\n",
       "        vertical-align: middle;\n",
       "    }\n",
       "\n",
       "    .dataframe tbody tr th {\n",
       "        vertical-align: top;\n",
       "    }\n",
       "\n",
       "    .dataframe thead th {\n",
       "        text-align: right;\n",
       "    }\n",
       "</style>\n",
       "<table border=\"1\" class=\"dataframe\">\n",
       "  <thead>\n",
       "    <tr style=\"text-align: right;\">\n",
       "      <th></th>\n",
       "      <th>quantity</th>\n",
       "    </tr>\n",
       "    <tr>\n",
       "      <th>month_invoiced</th>\n",
       "      <th></th>\n",
       "    </tr>\n",
       "  </thead>\n",
       "  <tbody>\n",
       "    <tr>\n",
       "      <th>2015-12-31</th>\n",
       "      <td>51260.0</td>\n",
       "    </tr>\n",
       "    <tr>\n",
       "      <th>2016-01-31</th>\n",
       "      <td>51260.0</td>\n",
       "    </tr>\n",
       "    <tr>\n",
       "      <th>2016-03-31</th>\n",
       "      <td>51260.0</td>\n",
       "    </tr>\n",
       "    <tr>\n",
       "      <th>2016-04-30</th>\n",
       "      <td>51260.0</td>\n",
       "    </tr>\n",
       "    <tr>\n",
       "      <th>2016-05-31</th>\n",
       "      <td>51260.0</td>\n",
       "    </tr>\n",
       "  </tbody>\n",
       "</table>\n",
       "</div>"
      ],
      "text/plain": [
       "                quantity\n",
       "month_invoiced          \n",
       "2015-12-31       51260.0\n",
       "2016-01-31       51260.0\n",
       "2016-03-31       51260.0\n",
       "2016-04-30       51260.0\n",
       "2016-05-31       51260.0"
      ]
     },
     "execution_count": 35,
     "metadata": {},
     "output_type": "execute_result"
    }
   ],
   "source": [
    "# compute at one month rolling average, \n",
    "# use the most recent/last month period value to predict forward. \n",
    "\n",
    "period = 1\n",
    "\n",
    "rolling_quantity = round(\n",
    "    train['quantity'].rolling(period).mean()[-1], 2)\n",
    "\n",
    "# yhat_df = make_predictions()\n",
    "\n",
    "yhat_df = pd.DataFrame({'quantity': rolling_quantity},\n",
    "                         index=validate.index)\n",
    "yhat_df.head()"
   ]
  },
  {
   "cell_type": "markdown",
   "id": "dbec1ea0-3e1b-4923-bf55-f726ef14da9d",
   "metadata": {},
   "source": [
    "**Plot Actual vs. Predicted Values**\n",
    "\n",
    "Now, let's plot and evaluate the performance of our time series model using **Moving Average**"
   ]
  },
  {
   "cell_type": "code",
   "execution_count": 36,
   "id": "71b7e417-3762-4c57-85c6-d3e8457c8cac",
   "metadata": {},
   "outputs": [
    {
     "name": "stdout",
     "output_type": "stream",
     "text": [
      "quantity -- rmse: 1559.0\n"
     ]
    },
    {
     "data": {
      "image/png": "[encoded data removed]",
      "text/plain": [
       "<Figure size 1200x400 with 1 Axes>"
      ]
     },
     "metadata": {},
     "output_type": "display_data"
    }
   ],
   "source": [
    "for col in train.columns:\n",
    "    plot_and_eval(col)"
   ]
  },
  {
   "cell_type": "markdown",
   "id": "350ea376-421a-4493-ba02-737cb71ee571",
   "metadata": {},
   "source": [
    "**Evaluate**\n",
    "\n",
    "Evaluate using MSE and RMSE, and add evaluation metrics to `eval_df`"
   ]
  },
  {
   "cell_type": "code",
   "execution_count": 37,
   "id": "eb69d58d-4508-4d9e-a601-e133a5381e38",
   "metadata": {},
   "outputs": [
    {
     "data": {
      "text/html": [
       "<div>\n",
       "<style scoped>\n",
       "    .dataframe tbody tr th:only-of-type {\n",
       "        vertical-align: middle;\n",
       "    }\n",
       "\n",
       "    .dataframe tbody tr th {\n",
       "        vertical-align: top;\n",
       "    }\n",
       "\n",
       "    .dataframe thead th {\n",
       "        text-align: right;\n",
       "    }\n",
       "</style>\n",
       "<table border=\"1\" class=\"dataframe\">\n",
       "  <thead>\n",
       "    <tr style=\"text-align: right;\">\n",
       "      <th></th>\n",
       "      <th>model_type</th>\n",
       "      <th>target_var</th>\n",
       "      <th>rmse</th>\n",
       "    </tr>\n",
       "  </thead>\n",
       "  <tbody>\n",
       "    <tr>\n",
       "      <th>0</th>\n",
       "      <td>last_observed_value</td>\n",
       "      <td>quantity</td>\n",
       "      <td>1559.0</td>\n",
       "    </tr>\n",
       "    <tr>\n",
       "      <th>0</th>\n",
       "      <td>simple_average</td>\n",
       "      <td>quantity</td>\n",
       "      <td>7410.0</td>\n",
       "    </tr>\n",
       "    <tr>\n",
       "      <th>0</th>\n",
       "      <td>1 month moving average</td>\n",
       "      <td>quantity</td>\n",
       "      <td>1559.0</td>\n",
       "    </tr>\n",
       "  </tbody>\n",
       "</table>\n",
       "</div>"
      ],
      "text/plain": [
       "               model_type target_var    rmse\n",
       "0     last_observed_value   quantity  1559.0\n",
       "0          simple_average   quantity  7410.0\n",
       "0  1 month moving average   quantity  1559.0"
      ]
     },
     "execution_count": 37,
     "metadata": {},
     "output_type": "execute_result"
    }
   ],
   "source": [
    "for col in train.columns:\n",
    "    eval_df = append_eval_df(model_type='1 month moving average', \n",
    "                             target_var = col)\n",
    "eval_df"
   ]
  },
  {
   "cell_type": "markdown",
   "id": "fe5d7141-417e-4ae2-8c3e-897a462a6d9f",
   "metadata": {},
   "source": [
    "Let's try out several other values for periods:"
   ]
  },
  {
   "cell_type": "code",
   "execution_count": 38,
   "id": "f7d473e0-65aa-43db-9043-b7fd126804ab",
   "metadata": {},
   "outputs": [],
   "source": [
    "periods = [2, 3, 4, 6, 12, 23]\n",
    "\n",
    "for p in periods: \n",
    "    rolling_quantity = round(\n",
    "    train['quantity'].rolling(p).mean()[-1], 2)\n",
    "    yhat_df = pd.DataFrame(\n",
    "        {\n",
    "           'quantity': [rolling_quantity]\n",
    "        },\n",
    "        index=validate.index\n",
    "    )\n",
    "    model_type = str(p) + '_month_moving_avg'\n",
    "    # lets update the eval_df (remember we have two targets!)\n",
    "    for col in train.columns:\n",
    "        eval_df = append_eval_df(model_type = model_type,\n",
    "                                 target_var = col)"
   ]
  },
  {
   "cell_type": "code",
   "execution_count": 39,
   "id": "b44974b1-d9cc-4295-aa44-b43a6293a553",
   "metadata": {},
   "outputs": [
    {
     "data": {
      "text/html": [
       "<div>\n",
       "<style scoped>\n",
       "    .dataframe tbody tr th:only-of-type {\n",
       "        vertical-align: middle;\n",
       "    }\n",
       "\n",
       "    .dataframe tbody tr th {\n",
       "        vertical-align: top;\n",
       "    }\n",
       "\n",
       "    .dataframe thead th {\n",
       "        text-align: right;\n",
       "    }\n",
       "</style>\n",
       "<table border=\"1\" class=\"dataframe\">\n",
       "  <thead>\n",
       "    <tr style=\"text-align: right;\">\n",
       "      <th></th>\n",
       "      <th>model_type</th>\n",
       "      <th>target_var</th>\n",
       "      <th>rmse</th>\n",
       "    </tr>\n",
       "  </thead>\n",
       "  <tbody>\n",
       "    <tr>\n",
       "      <th>0</th>\n",
       "      <td>last_observed_value</td>\n",
       "      <td>quantity</td>\n",
       "      <td>1559.0</td>\n",
       "    </tr>\n",
       "    <tr>\n",
       "      <th>0</th>\n",
       "      <td>simple_average</td>\n",
       "      <td>quantity</td>\n",
       "      <td>7410.0</td>\n",
       "    </tr>\n",
       "    <tr>\n",
       "      <th>0</th>\n",
       "      <td>1 month moving average</td>\n",
       "      <td>quantity</td>\n",
       "      <td>1559.0</td>\n",
       "    </tr>\n",
       "    <tr>\n",
       "      <th>0</th>\n",
       "      <td>2_month_moving_avg</td>\n",
       "      <td>quantity</td>\n",
       "      <td>1475.0</td>\n",
       "    </tr>\n",
       "    <tr>\n",
       "      <th>0</th>\n",
       "      <td>3_month_moving_avg</td>\n",
       "      <td>quantity</td>\n",
       "      <td>1587.0</td>\n",
       "    </tr>\n",
       "    <tr>\n",
       "      <th>0</th>\n",
       "      <td>4_month_moving_avg</td>\n",
       "      <td>quantity</td>\n",
       "      <td>1758.0</td>\n",
       "    </tr>\n",
       "    <tr>\n",
       "      <th>0</th>\n",
       "      <td>6_month_moving_avg</td>\n",
       "      <td>quantity</td>\n",
       "      <td>2154.0</td>\n",
       "    </tr>\n",
       "    <tr>\n",
       "      <th>0</th>\n",
       "      <td>12_month_moving_avg</td>\n",
       "      <td>quantity</td>\n",
       "      <td>3576.0</td>\n",
       "    </tr>\n",
       "    <tr>\n",
       "      <th>0</th>\n",
       "      <td>23_month_moving_avg</td>\n",
       "      <td>quantity</td>\n",
       "      <td>7410.0</td>\n",
       "    </tr>\n",
       "  </tbody>\n",
       "</table>\n",
       "</div>"
      ],
      "text/plain": [
       "               model_type target_var    rmse\n",
       "0     last_observed_value   quantity  1559.0\n",
       "0          simple_average   quantity  7410.0\n",
       "0  1 month moving average   quantity  1559.0\n",
       "0      2_month_moving_avg   quantity  1475.0\n",
       "0      3_month_moving_avg   quantity  1587.0\n",
       "0      4_month_moving_avg   quantity  1758.0\n",
       "0      6_month_moving_avg   quantity  2154.0\n",
       "0     12_month_moving_avg   quantity  3576.0\n",
       "0     23_month_moving_avg   quantity  7410.0"
      ]
     },
     "execution_count": 39,
     "metadata": {},
     "output_type": "execute_result"
    }
   ],
   "source": [
    "eval_df"
   ]
  },
  {
   "cell_type": "markdown",
   "id": "fd2a6e7d-6c7f-46f0-97e9-9267dcf9d100",
   "metadata": {},
   "source": [
    "Which is best so far? "
   ]
  },
  {
   "cell_type": "code",
   "execution_count": 40,
   "id": "c0577806-bb60-498d-91d2-7015945dbdb8",
   "metadata": {},
   "outputs": [
    {
     "data": {
      "text/plain": [
       "target_var\n",
       "quantity    1475.0\n",
       "Name: rmse, dtype: float64"
      ]
     },
     "execution_count": 40,
     "metadata": {},
     "output_type": "execute_result"
    }
   ],
   "source": [
    "eval_df.groupby('target_var')['rmse'].min()"
   ]
  },
  {
   "cell_type": "code",
   "execution_count": 41,
   "id": "8e0026d3-5af7-4fbd-ad14-0ad4b1276d7b",
   "metadata": {},
   "outputs": [],
   "source": [
    "# get the min rmse for each variable\n",
    "\n",
    "min_rmse_quantity = eval_df.groupby(\n",
    "    'target_var')['rmse'].min()[0]"
   ]
  },
  {
   "cell_type": "code",
   "execution_count": 42,
   "id": "045dfb2e-387f-4959-97c9-5517c4ed4186",
   "metadata": {},
   "outputs": [
    {
     "data": {
      "text/html": [
       "<div>\n",
       "<style scoped>\n",
       "    .dataframe tbody tr th:only-of-type {\n",
       "        vertical-align: middle;\n",
       "    }\n",
       "\n",
       "    .dataframe tbody tr th {\n",
       "        vertical-align: top;\n",
       "    }\n",
       "\n",
       "    .dataframe thead th {\n",
       "        text-align: right;\n",
       "    }\n",
       "</style>\n",
       "<table border=\"1\" class=\"dataframe\">\n",
       "  <thead>\n",
       "    <tr style=\"text-align: right;\">\n",
       "      <th></th>\n",
       "      <th>model_type</th>\n",
       "      <th>target_var</th>\n",
       "      <th>rmse</th>\n",
       "    </tr>\n",
       "  </thead>\n",
       "  <tbody>\n",
       "    <tr>\n",
       "      <th>0</th>\n",
       "      <td>2_month_moving_avg</td>\n",
       "      <td>quantity</td>\n",
       "      <td>1475.0</td>\n",
       "    </tr>\n",
       "  </tbody>\n",
       "</table>\n",
       "</div>"
      ],
      "text/plain": [
       "           model_type target_var    rmse\n",
       "0  2_month_moving_avg   quantity  1475.0"
      ]
     },
     "execution_count": 42,
     "metadata": {},
     "output_type": "execute_result"
    }
   ],
   "source": [
    "eval_df[(eval_df.rmse == min_rmse_quantity)]"
   ]
  },
  {
   "cell_type": "markdown",
   "id": "5cb0f0a9-52d8-496b-a320-e377d954bbfc",
   "metadata": {},
   "source": [
    "### • Holt's Linear Trend\n",
    "\n",
    "![diagram of holts linear trent](holts.png)\n",
    "\n",
    "**Make Predictions**\n",
    "\n",
    "Now, like we would when using sklearn, we will create the Holt object, fit the model, and make predictions."
   ]
  },
  {
   "cell_type": "code",
   "execution_count": 43,
   "id": "4985cb1e-c8ca-4814-9fc8-0c017cdcd4a5",
   "metadata": {},
   "outputs": [
    {
     "name": "stderr",
     "output_type": "stream",
     "text": [
      "/opt/homebrew/anaconda3/lib/python3.9/site-packages/statsmodels/tsa/base/tsa_model.py:471: ValueWarning: No frequency information was provided, so inferred frequency M will be used.\n",
      "  self._init_dates(dates, freq)\n"
     ]
    }
   ],
   "source": [
    "for col in train.columns:\n",
    "    model = Holt(train[col], exponential=False, damped=True)\n",
    "    model = model.fit(optimized=True)\n",
    "    yhat_values = model.predict(start=validate.index[0],\n",
    "                                end= validate.index[-1])\n",
    "    yhat_df[col] = round(yhat_values, 2)"
   ]
  },
  {
   "cell_type": "code",
   "execution_count": 44,
   "id": "20c288b9-fdf9-415b-b9b8-0e3b6005df22",
   "metadata": {},
   "outputs": [
    {
     "data": {
      "text/html": [
       "<div>\n",
       "<style scoped>\n",
       "    .dataframe tbody tr th:only-of-type {\n",
       "        vertical-align: middle;\n",
       "    }\n",
       "\n",
       "    .dataframe tbody tr th {\n",
       "        vertical-align: top;\n",
       "    }\n",
       "\n",
       "    .dataframe thead th {\n",
       "        text-align: right;\n",
       "    }\n",
       "</style>\n",
       "<table border=\"1\" class=\"dataframe\">\n",
       "  <thead>\n",
       "    <tr style=\"text-align: right;\">\n",
       "      <th></th>\n",
       "      <th>quantity</th>\n",
       "    </tr>\n",
       "    <tr>\n",
       "      <th>month_invoiced</th>\n",
       "      <th></th>\n",
       "    </tr>\n",
       "  </thead>\n",
       "  <tbody>\n",
       "    <tr>\n",
       "      <th>2015-12-31</th>\n",
       "      <td>51696.03</td>\n",
       "    </tr>\n",
       "    <tr>\n",
       "      <th>2016-01-31</th>\n",
       "      <td>51946.90</td>\n",
       "    </tr>\n",
       "    <tr>\n",
       "      <th>2016-03-31</th>\n",
       "      <td>52442.31</td>\n",
       "    </tr>\n",
       "    <tr>\n",
       "      <th>2016-04-30</th>\n",
       "      <td>52686.89</td>\n",
       "    </tr>\n",
       "    <tr>\n",
       "      <th>2016-05-31</th>\n",
       "      <td>52929.42</td>\n",
       "    </tr>\n",
       "  </tbody>\n",
       "</table>\n",
       "</div>"
      ],
      "text/plain": [
       "                quantity\n",
       "month_invoiced          \n",
       "2015-12-31      51696.03\n",
       "2016-01-31      51946.90\n",
       "2016-03-31      52442.31\n",
       "2016-04-30      52686.89\n",
       "2016-05-31      52929.42"
      ]
     },
     "execution_count": 44,
     "metadata": {},
     "output_type": "execute_result"
    }
   ],
   "source": [
    "yhat_df.head()"
   ]
  },
  {
   "cell_type": "markdown",
   "id": "57320201-088a-449e-8af8-73680d7b3b6f",
   "metadata": {},
   "source": [
    "**Plot Actual vs. Predicted Values**"
   ]
  },
  {
   "cell_type": "code",
   "execution_count": 45,
   "id": "a98bd11b-72aa-4daf-bb29-d0492605510c",
   "metadata": {},
   "outputs": [
    {
     "name": "stdout",
     "output_type": "stream",
     "text": [
      "quantity -- rmse: 888.0\n"
     ]
    },
    {
     "data": {
      "image/png": "[encoded data removed]",
      "text/plain": [
       "<Figure size 1200x400 with 1 Axes>"
      ]
     },
     "metadata": {},
     "output_type": "display_data"
    }
   ],
   "source": [
    "for col in train.columns:\n",
    "    plot_and_eval(target_var = col)"
   ]
  },
  {
   "cell_type": "markdown",
   "id": "70fc1c97-4ff7-4439-8924-d46685534e63",
   "metadata": {},
   "source": [
    "**Evaluate**"
   ]
  },
  {
   "cell_type": "code",
   "execution_count": 46,
   "id": "f00c4c42-3980-40cb-8243-f8038d3377a0",
   "metadata": {},
   "outputs": [],
   "source": [
    "for col in train.columns:\n",
    "    eval_df = append_eval_df(model_type = 'holts_optimized', \n",
    "                            target_var = col)"
   ]
  },
  {
   "cell_type": "markdown",
   "id": "99681297-57c2-41e5-a1bc-aabb384f2f3f",
   "metadata": {},
   "source": [
    "### • Holt's Seasonal Trend"
   ]
  },
  {
   "cell_type": "code",
   "execution_count": 47,
   "id": "269cc7fb-af11-47da-89bf-f6d238750a65",
   "metadata": {},
   "outputs": [],
   "source": [
    "import itertools"
   ]
  },
  {
   "cell_type": "code",
   "execution_count": 48,
   "id": "842df8af-586c-4097-b87b-b5c400084cae",
   "metadata": {
    "tags": []
   },
   "outputs": [],
   "source": [
    "combos = list(itertools.product(['add','mul'],[True, False]))"
   ]
  },
  {
   "cell_type": "code",
   "execution_count": 49,
   "id": "603a32e5-3c81-4a2d-84c3-07265f701559",
   "metadata": {},
   "outputs": [
    {
     "data": {
      "text/plain": [
       "[('add', True), ('add', False), ('mul', True), ('mul', False)]"
      ]
     },
     "execution_count": 49,
     "metadata": {},
     "output_type": "execute_result"
    }
   ],
   "source": [
    "combos"
   ]
  },
  {
   "cell_type": "code",
   "execution_count": 50,
   "id": "fc67f5df-d16f-460d-9df3-de9574b24f4a",
   "metadata": {},
   "outputs": [
    {
     "name": "stderr",
     "output_type": "stream",
     "text": [
      "/opt/homebrew/anaconda3/lib/python3.9/site-packages/statsmodels/tsa/base/tsa_model.py:471: ValueWarning: No frequency information was provided, so inferred frequency M will be used.\n",
      "  self._init_dates(dates, freq)\n"
     ]
    },
    {
     "ename": "ValueError",
     "evalue": "Cannot compute initial seasonals using heuristic method with less than two full seasonal cycles in the data.",
     "output_type": "error",
     "traceback": [
      "\u001b[0;31m---------------------------------------------------------------------------\u001b[0m",
      "\u001b[0;31mValueError\u001b[0m                                Traceback (most recent call last)",
      "Input \u001b[0;32mIn [50]\u001b[0m, in \u001b[0;36m<cell line: 3>\u001b[0;34m()\u001b[0m\n\u001b[1;32m      4\u001b[0m hsts[col] \u001b[38;5;241m=\u001b[39m {}\n\u001b[1;32m      5\u001b[0m \u001b[38;5;28;01mfor\u001b[39;00m i, combo \u001b[38;5;129;01min\u001b[39;00m \u001b[38;5;28menumerate\u001b[39m(combos):\n\u001b[1;32m      6\u001b[0m     hsts[col][\u001b[38;5;124m'\u001b[39m\u001b[38;5;124mhst_fit_\u001b[39m\u001b[38;5;124m'\u001b[39m \u001b[38;5;241m+\u001b[39m \u001b[38;5;28mstr\u001b[39m(i)] \u001b[38;5;241m=\u001b[39m \\\n\u001b[0;32m----> 7\u001b[0m     \u001b[43mExponentialSmoothing\u001b[49m\u001b[43m(\u001b[49m\u001b[43mtrain\u001b[49m\u001b[43m[\u001b[49m\u001b[43mcol\u001b[49m\u001b[43m]\u001b[49m\u001b[43m,\u001b[49m\n\u001b[1;32m      8\u001b[0m \u001b[43m                        \u001b[49m\u001b[43mseasonal_periods\u001b[49m\u001b[38;5;241;43m=\u001b[39;49m\u001b[38;5;241;43m365\u001b[39;49m\u001b[43m,\u001b[49m\n\u001b[1;32m      9\u001b[0m \u001b[43m                        \u001b[49m\u001b[43mtrend\u001b[49m\u001b[38;5;241;43m=\u001b[39;49m\u001b[38;5;124;43m'\u001b[39;49m\u001b[38;5;124;43madd\u001b[39;49m\u001b[38;5;124;43m'\u001b[39;49m\u001b[43m,\u001b[49m\n\u001b[1;32m     10\u001b[0m \u001b[43m                        \u001b[49m\u001b[43mseasonal\u001b[49m\u001b[38;5;241;43m=\u001b[39;49m\u001b[43mcombo\u001b[49m\u001b[43m[\u001b[49m\u001b[38;5;241;43m0\u001b[39;49m\u001b[43m]\u001b[49m\u001b[43m,\u001b[49m\n\u001b[1;32m     11\u001b[0m \u001b[43m                        \u001b[49m\u001b[43mdamped\u001b[49m\u001b[38;5;241;43m=\u001b[39;49m\u001b[43mcombo\u001b[49m\u001b[43m[\u001b[49m\u001b[38;5;241;43m1\u001b[39;49m\u001b[43m]\u001b[49m\u001b[43m)\u001b[49m\u001b[38;5;241m.\u001b[39mfit()\n",
      "File \u001b[0;32m/opt/homebrew/anaconda3/lib/python3.9/site-packages/pandas/util/_decorators.py:207\u001b[0m, in \u001b[0;36mdeprecate_kwarg.<locals>._deprecate_kwarg.<locals>.wrapper\u001b[0;34m(*args, **kwargs)\u001b[0m\n\u001b[1;32m    205\u001b[0m     \u001b[38;5;28;01melse\u001b[39;00m:\n\u001b[1;32m    206\u001b[0m         kwargs[new_arg_name] \u001b[38;5;241m=\u001b[39m new_arg_value\n\u001b[0;32m--> 207\u001b[0m \u001b[38;5;28;01mreturn\u001b[39;00m \u001b[43mfunc\u001b[49m\u001b[43m(\u001b[49m\u001b[38;5;241;43m*\u001b[39;49m\u001b[43margs\u001b[49m\u001b[43m,\u001b[49m\u001b[43m \u001b[49m\u001b[38;5;241;43m*\u001b[39;49m\u001b[38;5;241;43m*\u001b[39;49m\u001b[43mkwargs\u001b[49m\u001b[43m)\u001b[49m\n",
      "File \u001b[0;32m/opt/homebrew/anaconda3/lib/python3.9/site-packages/statsmodels/tsa/holtwinters/model.py:292\u001b[0m, in \u001b[0;36mExponentialSmoothing.__init__\u001b[0;34m(self, endog, trend, damped_trend, seasonal, seasonal_periods, initialization_method, initial_level, initial_trend, initial_seasonal, use_boxcox, bounds, dates, freq, missing)\u001b[0m\n\u001b[1;32m    290\u001b[0m \u001b[38;5;28mself\u001b[39m\u001b[38;5;241m.\u001b[39m_lambda \u001b[38;5;241m=\u001b[39m np\u001b[38;5;241m.\u001b[39mnan\n\u001b[1;32m    291\u001b[0m \u001b[38;5;28mself\u001b[39m\u001b[38;5;241m.\u001b[39m_y \u001b[38;5;241m=\u001b[39m \u001b[38;5;28mself\u001b[39m\u001b[38;5;241m.\u001b[39m_boxcox()\n\u001b[0;32m--> 292\u001b[0m \u001b[38;5;28;43mself\u001b[39;49m\u001b[38;5;241;43m.\u001b[39;49m\u001b[43m_initialize\u001b[49m\u001b[43m(\u001b[49m\u001b[43m)\u001b[49m\n\u001b[1;32m    293\u001b[0m \u001b[38;5;28mself\u001b[39m\u001b[38;5;241m.\u001b[39m_fixed_parameters \u001b[38;5;241m=\u001b[39m {}\n",
      "File \u001b[0;32m/opt/homebrew/anaconda3/lib/python3.9/site-packages/statsmodels/tsa/holtwinters/model.py:430\u001b[0m, in \u001b[0;36mExponentialSmoothing._initialize\u001b[0;34m(self)\u001b[0m\n\u001b[1;32m    428\u001b[0m \u001b[38;5;28;01melif\u001b[39;00m \u001b[38;5;28mself\u001b[39m\u001b[38;5;241m.\u001b[39m_initialization_method \u001b[38;5;241m==\u001b[39m \u001b[38;5;124m\"\u001b[39m\u001b[38;5;124mestimated\u001b[39m\u001b[38;5;124m\"\u001b[39m:\n\u001b[1;32m    429\u001b[0m     \u001b[38;5;28;01mif\u001b[39;00m \u001b[38;5;28mself\u001b[39m\u001b[38;5;241m.\u001b[39mnobs \u001b[38;5;241m<\u001b[39m \u001b[38;5;241m10\u001b[39m \u001b[38;5;241m+\u001b[39m \u001b[38;5;241m2\u001b[39m \u001b[38;5;241m*\u001b[39m (\u001b[38;5;28mself\u001b[39m\u001b[38;5;241m.\u001b[39mseasonal_periods \u001b[38;5;241m/\u001b[39m\u001b[38;5;241m/\u001b[39m \u001b[38;5;241m2\u001b[39m):\n\u001b[0;32m--> 430\u001b[0m         \u001b[38;5;28;01mreturn\u001b[39;00m \u001b[38;5;28;43mself\u001b[39;49m\u001b[38;5;241;43m.\u001b[39;49m\u001b[43m_initialize_simple\u001b[49m\u001b[43m(\u001b[49m\u001b[43m)\u001b[49m\n\u001b[1;32m    431\u001b[0m     \u001b[38;5;28;01melse\u001b[39;00m:\n\u001b[1;32m    432\u001b[0m         \u001b[38;5;28;01mreturn\u001b[39;00m \u001b[38;5;28mself\u001b[39m\u001b[38;5;241m.\u001b[39m_initialize_heuristic()\n",
      "File \u001b[0;32m/opt/homebrew/anaconda3/lib/python3.9/site-packages/statsmodels/tsa/holtwinters/model.py:437\u001b[0m, in \u001b[0;36mExponentialSmoothing._initialize_simple\u001b[0;34m(self)\u001b[0m\n\u001b[1;32m    435\u001b[0m trend \u001b[38;5;241m=\u001b[39m \u001b[38;5;28mself\u001b[39m\u001b[38;5;241m.\u001b[39mtrend \u001b[38;5;28;01mif\u001b[39;00m \u001b[38;5;28mself\u001b[39m\u001b[38;5;241m.\u001b[39mhas_trend \u001b[38;5;28;01melse\u001b[39;00m \u001b[38;5;28;01mFalse\u001b[39;00m\n\u001b[1;32m    436\u001b[0m seasonal \u001b[38;5;241m=\u001b[39m \u001b[38;5;28mself\u001b[39m\u001b[38;5;241m.\u001b[39mseasonal \u001b[38;5;28;01mif\u001b[39;00m \u001b[38;5;28mself\u001b[39m\u001b[38;5;241m.\u001b[39mhas_seasonal \u001b[38;5;28;01melse\u001b[39;00m \u001b[38;5;28;01mFalse\u001b[39;00m\n\u001b[0;32m--> 437\u001b[0m lvl, trend, seas \u001b[38;5;241m=\u001b[39m \u001b[43m_initialization_simple\u001b[49m\u001b[43m(\u001b[49m\n\u001b[1;32m    438\u001b[0m \u001b[43m    \u001b[49m\u001b[38;5;28;43mself\u001b[39;49m\u001b[38;5;241;43m.\u001b[39;49m\u001b[43m_y\u001b[49m\u001b[43m,\u001b[49m\u001b[43m \u001b[49m\u001b[43mtrend\u001b[49m\u001b[43m,\u001b[49m\u001b[43m \u001b[49m\u001b[43mseasonal\u001b[49m\u001b[43m,\u001b[49m\u001b[43m \u001b[49m\u001b[38;5;28;43mself\u001b[39;49m\u001b[38;5;241;43m.\u001b[39;49m\u001b[43mseasonal_periods\u001b[49m\n\u001b[1;32m    439\u001b[0m \u001b[43m\u001b[49m\u001b[43m)\u001b[49m\n\u001b[1;32m    440\u001b[0m \u001b[38;5;28mself\u001b[39m\u001b[38;5;241m.\u001b[39m_initial_level \u001b[38;5;241m=\u001b[39m lvl\n\u001b[1;32m    441\u001b[0m \u001b[38;5;28mself\u001b[39m\u001b[38;5;241m.\u001b[39m_initial_trend \u001b[38;5;241m=\u001b[39m trend\n",
      "File \u001b[0;32m/opt/homebrew/anaconda3/lib/python3.9/site-packages/statsmodels/tsa/exponential_smoothing/initialization.py:26\u001b[0m, in \u001b[0;36m_initialization_simple\u001b[0;34m(endog, trend, seasonal, seasonal_periods)\u001b[0m\n\u001b[1;32m     23\u001b[0m \u001b[38;5;66;03m# Seasonal\u001b[39;00m\n\u001b[1;32m     24\u001b[0m \u001b[38;5;28;01melse\u001b[39;00m:\n\u001b[1;32m     25\u001b[0m     \u001b[38;5;28;01mif\u001b[39;00m nobs \u001b[38;5;241m<\u001b[39m \u001b[38;5;241m2\u001b[39m \u001b[38;5;241m*\u001b[39m seasonal_periods:\n\u001b[0;32m---> 26\u001b[0m         \u001b[38;5;28;01mraise\u001b[39;00m \u001b[38;5;167;01mValueError\u001b[39;00m(\u001b[38;5;124m'\u001b[39m\u001b[38;5;124mCannot compute initial seasonals using\u001b[39m\u001b[38;5;124m'\u001b[39m\n\u001b[1;32m     27\u001b[0m                          \u001b[38;5;124m'\u001b[39m\u001b[38;5;124m heuristic method with less than two full\u001b[39m\u001b[38;5;124m'\u001b[39m\n\u001b[1;32m     28\u001b[0m                          \u001b[38;5;124m'\u001b[39m\u001b[38;5;124m seasonal cycles in the data.\u001b[39m\u001b[38;5;124m'\u001b[39m)\n\u001b[1;32m     30\u001b[0m     initial_level \u001b[38;5;241m=\u001b[39m np\u001b[38;5;241m.\u001b[39mmean(endog[:seasonal_periods])\n\u001b[1;32m     31\u001b[0m     m \u001b[38;5;241m=\u001b[39m seasonal_periods\n",
      "\u001b[0;31mValueError\u001b[0m: Cannot compute initial seasonals using heuristic method with less than two full seasonal cycles in the data."
     ]
    }
   ],
   "source": [
    "# let's play with some hyperparameter combinations:\n",
    "hsts = {}\n",
    "for col in train.columns:\n",
    "    hsts[col] = {}\n",
    "    for i, combo in enumerate(combos):\n",
    "        hsts[col]['hst_fit_' + str(i)] = \\\n",
    "        ExponentialSmoothing(train[col],\n",
    "                            seasonal_periods=365,\n",
    "                            trend='add',\n",
    "                            seasonal=combo[0],\n",
    "                            damped=combo[1]).fit()"
   ]
  },
  {
   "cell_type": "code",
   "execution_count": null,
   "id": "4cee18cc-7b12-4097-b518-a574afb00632",
   "metadata": {},
   "outputs": [],
   "source": [
    "hsts.keys()"
   ]
  },
  {
   "cell_type": "code",
   "execution_count": null,
   "id": "7f89f7c3-9004-4714-b81e-5d243cc4d883",
   "metadata": {},
   "outputs": [],
   "source": [
    "hsts['']"
   ]
  },
  {
   "cell_type": "code",
   "execution_count": null,
   "id": "8c94bcfc-7dd6-4290-9375-26823c295fb9",
   "metadata": {},
   "outputs": [],
   "source": [
    "# compare our scores\n",
    "best_score = 'placeholder'\n",
    "for model in hsts['quantity']:\n",
    "    score = sqrt(hsts['quantity'][model].sse / len(train))\n",
    "    current_model = {model: score}\n",
    "    if best_score == 'placeholder':\n",
    "        best_score = current_model\n",
    "    else:\n",
    "        if list(best_score.values())[0] > list(current_model.values())[0]:\n",
    "            best_score = current_model"
   ]
  },
  {
   "cell_type": "code",
   "execution_count": null,
   "id": "72cd3c87-da76-4e7a-90a8-d27b4b4a721f",
   "metadata": {},
   "outputs": [],
   "source": [
    "best_score"
   ]
  },
  {
   "cell_type": "code",
   "execution_count": null,
   "id": "d6271419-c253-405e-b98c-3a63a0101908",
   "metadata": {},
   "outputs": [],
   "source": []
  },
  {
   "cell_type": "markdown",
   "id": "0c9f0479-7fd0-4aa0-8698-94993d034f3c",
   "metadata": {
    "tags": []
   },
   "source": [
    "### Make Predictions\n",
    "\n",
    "The `.forecast()` method for Holt's Seasonal models requires the number of periods the model is going to provide a prediction for **after** the end of the training data. "
   ]
  },
  {
   "cell_type": "code",
   "execution_count": null,
   "id": "9e9290ae-1a1f-4b38-8467-7bc7d8aa4cfd",
   "metadata": {},
   "outputs": [],
   "source": [
    "train.shape, validate.shape, test.shape"
   ]
  },
  {
   "cell_type": "code",
   "execution_count": null,
   "id": "c0074dff-4b3c-4a5d-b515-500b5a517768",
   "metadata": {
    "tags": []
   },
   "outputs": [],
   "source": [
    "validate.head(1)"
   ]
  },
  {
   "cell_type": "code",
   "execution_count": null,
   "id": "241cfc6d-6bb8-453f-9cbc-621a18c5d2fe",
   "metadata": {},
   "outputs": [],
   "source": [
    "hsts['quantity']['hst_fit_1'].forecast(validate.shape[0] + 1)"
   ]
  },
  {
   "cell_type": "code",
   "execution_count": null,
   "id": "ae342da1-a6c0-4b39-be71-ce0d60e18552",
   "metadata": {},
   "outputs": [],
   "source": [
    "yhat_df = pd.DataFrame({'sales_total': hsts['sales_total']['hst_fit_1'].forecast(validate.shape[0] + 1),\n",
    "                           'quantity': hsts['quantity']['hst_fit_1'].forecast(validate.shape[0] + 1)},\n",
    "                          index=validate.index)\n",
    "yhat_df"
   ]
  },
  {
   "cell_type": "code",
   "execution_count": null,
   "id": "4ee6ee76-a2d1-4fe5-88de-a65935c70919",
   "metadata": {},
   "outputs": [],
   "source": [
    "for col in train.columns:\n",
    "    plot_and_eval(col)"
   ]
  },
  {
   "cell_type": "code",
   "execution_count": null,
   "id": "b62b8f23-587c-4164-94e7-04c0b62c36df",
   "metadata": {},
   "outputs": [],
   "source": [
    "for col in train.columns:\n",
    "    eval_df = append_eval_df(model_type = 'holts_seasonal', \n",
    "                            target_var = col)"
   ]
  },
  {
   "cell_type": "code",
   "execution_count": null,
   "id": "6a87e6ae-8bef-4bd3-b0e5-711dd8c0f84f",
   "metadata": {},
   "outputs": [],
   "source": [
    "eval_df.sort_values(by='rmse')"
   ]
  },
  {
   "cell_type": "code",
   "execution_count": null,
   "id": "a3e97438-2586-4897-9758-42eb5a24b6cd",
   "metadata": {},
   "outputs": [],
   "source": [
    "for col in train.columns:\n",
    "    plot_and_eval(col)"
   ]
  },
  {
   "cell_type": "code",
   "execution_count": null,
   "id": "127b0da8-df56-4eda-8045-69e4239d9f3b",
   "metadata": {},
   "outputs": [],
   "source": [
    "for col in train.columns:\n",
    "    eval_df = append_eval_df(model_type = 'holts_seasonal', \n",
    "                            target_var = col)"
   ]
  },
  {
   "cell_type": "code",
   "execution_count": null,
   "id": "f92f1e72-9ccb-4e7e-b70f-76ac31ca2071",
   "metadata": {},
   "outputs": [],
   "source": [
    "eval_df.sort_values(by='rmse')"
   ]
  },
  {
   "cell_type": "markdown",
   "id": "cc8b70f6-2268-4626-a96b-cb3dad96e1b1",
   "metadata": {},
   "source": [
    "### • Based on previous year/month/etc., this is up to you."
   ]
  },
  {
   "cell_type": "code",
   "execution_count": null,
   "id": "728be280-3973-4daf-8ccd-aa3bde4ffb3c",
   "metadata": {},
   "outputs": [],
   "source": []
  },
  {
   "cell_type": "code",
   "execution_count": null,
   "id": "c7c68d6c-ff11-4017-8ad9-a61607b85c4b",
   "metadata": {},
   "outputs": [],
   "source": []
  }
 ],
 "metadata": {
  "kernelspec": {
   "display_name": "Python 3 (ipykernel)",
   "language": "python",
   "name": "python3"
  },
  "language_info": {
   "codemirror_mode": {
    "name": "ipython",
    "version": 3
   },
   "file_extension": ".py",
   "mimetype": "text/x-python",
   "name": "python",
   "nbconvert_exporter": "python",
   "pygments_lexer": "ipython3",
   "version": "3.9.13"
  }
 },
 "nbformat": 4,
 "nbformat_minor": 5
}
